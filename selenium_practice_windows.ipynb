{
  "nbformat": 4,
  "nbformat_minor": 0,
  "metadata": {
    "colab": {
      "provenance": [],
      "authorship_tag": "ABX9TyP3ivhONms9WKp2YIG3z5fO",
      "include_colab_link": true
    },
    "kernelspec": {
      "name": "python3",
      "display_name": "Python 3"
    },
    "language_info": {
      "name": "python"
    }
  },
  "cells": [
    {
      "cell_type": "markdown",
      "metadata": {
        "id": "view-in-github",
        "colab_type": "text"
      },
      "source": [
        "<a href=\"https://colab.research.google.com/github/jojojonj0211/Gogolook/blob/main/selenium_practice_windows.ipynb\" target=\"_parent\"><img src=\"https://colab.research.google.com/assets/colab-badge.svg\" alt=\"Open In Colab\"/></a>"
      ]
    },
    {
      "cell_type": "code",
      "source": [
        "!apt-get update\n",
        "!pip install selenium\n",
        "!apt install chromium-chromedriver\n",
        "!apt-get install -y chromium-browser"
      ],
      "metadata": {
        "id": "LYH9N5uWmN1Z"
      },
      "execution_count": null,
      "outputs": []
    },
    {
      "cell_type": "code",
      "source": [
        "# -*- coding: utf-8 -*-\n",
        "import time\n",
        "import unittest\n",
        "from selenium import webdriver\n",
        "from selenium.webdriver.common.by import By\n",
        "from selenium.webdriver.support.wait import WebDriverWait\n",
        "from selenium.webdriver.support import expected_conditions as EC\n",
        "from selenium.common.exceptions import TimeoutException\n",
        "from selenium.webdriver.common.keys import Keys\n",
        "from BeautifulReport import BeautifulReport\n",
        "from selenium.webdriver.common.action_chains import ActionChains\n"
      ],
      "metadata": {
        "id": "jl9KuKTAJb6-"
      },
      "execution_count": 80,
      "outputs": []
    },
    {
      "cell_type": "code",
      "source": [
        "\n",
        "options = webdriver.ChromeOptions()\n",
        "options.add_argument('--headless')\n",
        "options.add_argument('--no-sandbox')\n",
        "options.add_argument('--disable-dev-shm-usage')\n",
        "\n",
        "chrome_path = '/usr/lib/chromium-browser/chromedriver'\n",
        "\n",
        "\n",
        "driver = webdriver.Chrome(options=options)\n",
        "driver.implicitly_wait(10)"
      ],
      "metadata": {
        "id": "tFAJaorwbPjF"
      },
      "execution_count": 87,
      "outputs": []
    },
    {
      "cell_type": "code",
      "source": [
        "driver.get('https://www.google.com.tw/')\n",
        "driver.title"
      ],
      "metadata": {
        "colab": {
          "base_uri": "https://localhost:8080/",
          "height": 36
        },
        "id": "gyaUJa4VJDvI",
        "outputId": "8bb95466-1fd7-4208-b4a0-1997b26592cc"
      },
      "execution_count": 88,
      "outputs": [
        {
          "output_type": "execute_result",
          "data": {
            "text/plain": [
              "'Google'"
            ],
            "application/vnd.google.colaboratory.intrinsic+json": {
              "type": "string"
            }
          },
          "metadata": {},
          "execution_count": 88
        }
      ]
    },
    {
      "cell_type": "code",
      "source": [
        "try:\n",
        "    wait = WebDriverWait(driver, 3)\n",
        "    input = wait.until(EC.visibility_of_element_located((By.NAME, 'q')))\n",
        "    input.send_keys('instagram')\n",
        "    input.send_keys(Keys.ENTER)\n",
        "    #input.submit()\n",
        "    print(input)\n",
        "except TimeoutException:\n",
        "    print(\"元素在超時時間內未找到\")"
      ],
      "metadata": {
        "colab": {
          "base_uri": "https://localhost:8080/"
        },
        "id": "bXhnrltXYoh0",
        "outputId": "c510a5c9-8e79-4b0a-d75f-faa229a7fe40"
      },
      "execution_count": 89,
      "outputs": [
        {
          "output_type": "stream",
          "name": "stdout",
          "text": [
            "<selenium.webdriver.remote.webelement.WebElement (session=\"d1baaa55dbe092b0794d3bb19e59a4d7\", element=\"13B04235F2B611245961492C945AF143_element_4\")>\n"
          ]
        }
      ]
    },
    {
      "cell_type": "code",
      "execution_count": 92,
      "metadata": {
        "id": "-RQKnctNfxBV"
      },
      "outputs": [],
      "source": [
        "# -*- coding: utf-8 -*-\n",
        "ig = driver.find_element(By.XPATH, \"//a[@class='l']\")\n",
        "ig.click()\n"
      ]
    },
    {
      "cell_type": "code",
      "source": [
        "class practicetest(unittest.TestCase):\n",
        "  @classmethod\n",
        "  def setUpClass(cls):\n",
        "      print(\"開始單元測試\")\n",
        "      options = webdriver.ChromeOptions()\n",
        "      options.add_argument('--headless')\n",
        "      options.add_argument('--no-sandbox')\n",
        "      options.add_argument('--disable-dev-shm-usage')\n",
        "\n",
        "      chrome_path = '/usr/lib/chromium-browser/chromedriver'\n",
        "\n",
        "\n",
        "      cls.driver = webdriver.Chrome(options=options)\n",
        "      cls.driver.implicitly_wait(10)\n",
        "\n",
        "  def test1_search(self):\n",
        "    self.driver.get('https://www.google.com.tw/')\n",
        "    wait = WebDriverWait(self.driver, 3)\n",
        "    title = self.driver.title\n",
        "    print(title)\n",
        "    wait = WebDriverWait(self.driver, 3)\n",
        "    self.input = wait.until(EC.visibility_of_element_located((By.NAME, 'q')))\n",
        "    self.input.send_keys('instagram')\n",
        "    self.input.send_keys(Keys.ENTER)\n",
        "  def test2_click(self):\n",
        "    wait = WebDriverWait(self.driver, 5)\n",
        "    ig = self.driver.find_element(By.XPATH, \"//a[@class='l']\")\n",
        "    ig.click()\n",
        "\n",
        "\n",
        "\n",
        "  @classmethod\n",
        "  def tearDownClass(cls):\n",
        "      cls.driver.quit()\n",
        "\n",
        "if __name__=='__main__':\n",
        "     unittest.main(argv=['first-arg-is-ignored'], exit=False)"
      ],
      "metadata": {
        "id": "Xu2WE_fU6FoI",
        "outputId": "b9fb30fb-40f4-4710-880a-1b0b9d23b41f",
        "colab": {
          "base_uri": "https://localhost:8080/"
        }
      },
      "execution_count": 96,
      "outputs": [
        {
          "output_type": "stream",
          "name": "stdout",
          "text": [
            "開始單元測試\n",
            "Google\n"
          ]
        },
        {
          "output_type": "stream",
          "name": "stderr",
          "text": [
            "..\n",
            "----------------------------------------------------------------------\n",
            "Ran 2 tests in 5.008s\n",
            "\n",
            "OK\n"
          ]
        }
      ]
    }
  ]
}